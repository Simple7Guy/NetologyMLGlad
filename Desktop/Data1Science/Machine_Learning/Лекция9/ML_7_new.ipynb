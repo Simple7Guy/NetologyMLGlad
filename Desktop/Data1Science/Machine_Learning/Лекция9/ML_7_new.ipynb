{
 "cells": [
  {
   "cell_type": "code",
   "execution_count": 338,
   "metadata": {},
   "outputs": [],
   "source": [
    "import pandas as pd\n",
    "import numpy as np"
   ]
  },
  {
   "cell_type": "code",
   "execution_count": 339,
   "metadata": {},
   "outputs": [],
   "source": [
    "data = pd.read_csv('/Users/macbook/Desktop/Data1Science/Machine_Learning/Лекция9/house-prices-advanced-regression-techniques/sample_submission.csv')"
   ]
  },
  {
   "cell_type": "code",
   "execution_count": 340,
   "metadata": {},
   "outputs": [
    {
     "data": {
      "text/html": [
       "<div>\n",
       "<style scoped>\n",
       "    .dataframe tbody tr th:only-of-type {\n",
       "        vertical-align: middle;\n",
       "    }\n",
       "\n",
       "    .dataframe tbody tr th {\n",
       "        vertical-align: top;\n",
       "    }\n",
       "\n",
       "    .dataframe thead th {\n",
       "        text-align: right;\n",
       "    }\n",
       "</style>\n",
       "<table border=\"1\" class=\"dataframe\">\n",
       "  <thead>\n",
       "    <tr style=\"text-align: right;\">\n",
       "      <th></th>\n",
       "      <th>Id</th>\n",
       "      <th>SalePrice</th>\n",
       "    </tr>\n",
       "  </thead>\n",
       "  <tbody>\n",
       "    <tr>\n",
       "      <th>0</th>\n",
       "      <td>1461</td>\n",
       "      <td>169277.052498</td>\n",
       "    </tr>\n",
       "    <tr>\n",
       "      <th>1</th>\n",
       "      <td>1462</td>\n",
       "      <td>187758.393989</td>\n",
       "    </tr>\n",
       "    <tr>\n",
       "      <th>2</th>\n",
       "      <td>1463</td>\n",
       "      <td>183583.683570</td>\n",
       "    </tr>\n",
       "    <tr>\n",
       "      <th>3</th>\n",
       "      <td>1464</td>\n",
       "      <td>179317.477511</td>\n",
       "    </tr>\n",
       "    <tr>\n",
       "      <th>4</th>\n",
       "      <td>1465</td>\n",
       "      <td>150730.079977</td>\n",
       "    </tr>\n",
       "  </tbody>\n",
       "</table>\n",
       "</div>"
      ],
      "text/plain": [
       "     Id      SalePrice\n",
       "0  1461  169277.052498\n",
       "1  1462  187758.393989\n",
       "2  1463  183583.683570\n",
       "3  1464  179317.477511\n",
       "4  1465  150730.079977"
      ]
     },
     "execution_count": 340,
     "metadata": {},
     "output_type": "execute_result"
    }
   ],
   "source": [
    "data.head()"
   ]
  },
  {
   "cell_type": "code",
   "execution_count": 341,
   "metadata": {},
   "outputs": [],
   "source": [
    "data_train = pd.read_csv('/Users/macbook/Desktop/Data1Science/Machine_Learning/Лекция9/house-prices-advanced-regression-techniques/train.csv')"
   ]
  },
  {
   "cell_type": "code",
   "execution_count": 342,
   "metadata": {},
   "outputs": [
    {
     "name": "stdout",
     "output_type": "stream",
     "text": [
      "<class 'pandas.core.frame.DataFrame'>\n",
      "RangeIndex: 1460 entries, 0 to 1459\n",
      "Data columns (total 81 columns):\n",
      " #   Column         Non-Null Count  Dtype  \n",
      "---  ------         --------------  -----  \n",
      " 0   Id             1460 non-null   int64  \n",
      " 1   MSSubClass     1460 non-null   int64  \n",
      " 2   MSZoning       1460 non-null   object \n",
      " 3   LotFrontage    1201 non-null   float64\n",
      " 4   LotArea        1460 non-null   int64  \n",
      " 5   Street         1460 non-null   object \n",
      " 6   Alley          91 non-null     object \n",
      " 7   LotShape       1460 non-null   object \n",
      " 8   LandContour    1460 non-null   object \n",
      " 9   Utilities      1460 non-null   object \n",
      " 10  LotConfig      1460 non-null   object \n",
      " 11  LandSlope      1460 non-null   object \n",
      " 12  Neighborhood   1460 non-null   object \n",
      " 13  Condition1     1460 non-null   object \n",
      " 14  Condition2     1460 non-null   object \n",
      " 15  BldgType       1460 non-null   object \n",
      " 16  HouseStyle     1460 non-null   object \n",
      " 17  OverallQual    1460 non-null   int64  \n",
      " 18  OverallCond    1460 non-null   int64  \n",
      " 19  YearBuilt      1460 non-null   int64  \n",
      " 20  YearRemodAdd   1460 non-null   int64  \n",
      " 21  RoofStyle      1460 non-null   object \n",
      " 22  RoofMatl       1460 non-null   object \n",
      " 23  Exterior1st    1460 non-null   object \n",
      " 24  Exterior2nd    1460 non-null   object \n",
      " 25  MasVnrType     1452 non-null   object \n",
      " 26  MasVnrArea     1452 non-null   float64\n",
      " 27  ExterQual      1460 non-null   object \n",
      " 28  ExterCond      1460 non-null   object \n",
      " 29  Foundation     1460 non-null   object \n",
      " 30  BsmtQual       1423 non-null   object \n",
      " 31  BsmtCond       1423 non-null   object \n",
      " 32  BsmtExposure   1422 non-null   object \n",
      " 33  BsmtFinType1   1423 non-null   object \n",
      " 34  BsmtFinSF1     1460 non-null   int64  \n",
      " 35  BsmtFinType2   1422 non-null   object \n",
      " 36  BsmtFinSF2     1460 non-null   int64  \n",
      " 37  BsmtUnfSF      1460 non-null   int64  \n",
      " 38  TotalBsmtSF    1460 non-null   int64  \n",
      " 39  Heating        1460 non-null   object \n",
      " 40  HeatingQC      1460 non-null   object \n",
      " 41  CentralAir     1460 non-null   object \n",
      " 42  Electrical     1459 non-null   object \n",
      " 43  1stFlrSF       1460 non-null   int64  \n",
      " 44  2ndFlrSF       1460 non-null   int64  \n",
      " 45  LowQualFinSF   1460 non-null   int64  \n",
      " 46  GrLivArea      1460 non-null   int64  \n",
      " 47  BsmtFullBath   1460 non-null   int64  \n",
      " 48  BsmtHalfBath   1460 non-null   int64  \n",
      " 49  FullBath       1460 non-null   int64  \n",
      " 50  HalfBath       1460 non-null   int64  \n",
      " 51  BedroomAbvGr   1460 non-null   int64  \n",
      " 52  KitchenAbvGr   1460 non-null   int64  \n",
      " 53  KitchenQual    1460 non-null   object \n",
      " 54  TotRmsAbvGrd   1460 non-null   int64  \n",
      " 55  Functional     1460 non-null   object \n",
      " 56  Fireplaces     1460 non-null   int64  \n",
      " 57  FireplaceQu    770 non-null    object \n",
      " 58  GarageType     1379 non-null   object \n",
      " 59  GarageYrBlt    1379 non-null   float64\n",
      " 60  GarageFinish   1379 non-null   object \n",
      " 61  GarageCars     1460 non-null   int64  \n",
      " 62  GarageArea     1460 non-null   int64  \n",
      " 63  GarageQual     1379 non-null   object \n",
      " 64  GarageCond     1379 non-null   object \n",
      " 65  PavedDrive     1460 non-null   object \n",
      " 66  WoodDeckSF     1460 non-null   int64  \n",
      " 67  OpenPorchSF    1460 non-null   int64  \n",
      " 68  EnclosedPorch  1460 non-null   int64  \n",
      " 69  3SsnPorch      1460 non-null   int64  \n",
      " 70  ScreenPorch    1460 non-null   int64  \n",
      " 71  PoolArea       1460 non-null   int64  \n",
      " 72  PoolQC         7 non-null      object \n",
      " 73  Fence          281 non-null    object \n",
      " 74  MiscFeature    54 non-null     object \n",
      " 75  MiscVal        1460 non-null   int64  \n",
      " 76  MoSold         1460 non-null   int64  \n",
      " 77  YrSold         1460 non-null   int64  \n",
      " 78  SaleType       1460 non-null   object \n",
      " 79  SaleCondition  1460 non-null   object \n",
      " 80  SalePrice      1460 non-null   int64  \n",
      "dtypes: float64(3), int64(35), object(43)\n",
      "memory usage: 924.0+ KB\n"
     ]
    }
   ],
   "source": [
    "data_train.info()"
   ]
  },
  {
   "cell_type": "markdown",
   "metadata": {},
   "source": [
    "Рассмотрим все категориальные признаки."
   ]
  },
  {
   "cell_type": "code",
   "execution_count": 343,
   "metadata": {},
   "outputs": [
    {
     "data": {
      "text/plain": [
       "Shed    49\n",
       "Othr     2\n",
       "Gar2     2\n",
       "TenC     1\n",
       "Name: MiscFeature, dtype: int64"
      ]
     },
     "execution_count": 343,
     "metadata": {},
     "output_type": "execute_result"
    }
   ],
   "source": [
    "data_train.MiscFeature.value_counts()"
   ]
  },
  {
   "cell_type": "markdown",
   "metadata": {},
   "source": [
    "Street  \n",
    "Utilities  \n",
    "Condition2   \n",
    "RoofMatl  \n",
    "Heating  \n",
    "GarageQual  \n",
    "GarageCond  \n",
    "PoolQC  \n",
    "MiscFeature  \n",
    "- малоиформативены   \n",
    "id не нужен  "
   ]
  },
  {
   "cell_type": "code",
   "execution_count": 344,
   "metadata": {},
   "outputs": [],
   "source": [
    "data_train.drop(['Street', 'Utilities', 'Condition2', 'RoofMatl', 'Heating', 'GarageQual', 'GarageCond', 'PoolQC', 'MiscFeature'], axis='columns', inplace=True)"
   ]
  },
  {
   "cell_type": "code",
   "execution_count": 345,
   "metadata": {},
   "outputs": [],
   "source": [
    "data_train.drop(['Id'], axis='columns', inplace=True)"
   ]
  },
  {
   "cell_type": "code",
   "execution_count": 346,
   "metadata": {},
   "outputs": [
    {
     "name": "stdout",
     "output_type": "stream",
     "text": [
      "<class 'pandas.core.frame.DataFrame'>\n",
      "RangeIndex: 1460 entries, 0 to 1459\n",
      "Data columns (total 71 columns):\n",
      " #   Column         Non-Null Count  Dtype  \n",
      "---  ------         --------------  -----  \n",
      " 0   MSSubClass     1460 non-null   int64  \n",
      " 1   MSZoning       1460 non-null   object \n",
      " 2   LotFrontage    1201 non-null   float64\n",
      " 3   LotArea        1460 non-null   int64  \n",
      " 4   Alley          91 non-null     object \n",
      " 5   LotShape       1460 non-null   object \n",
      " 6   LandContour    1460 non-null   object \n",
      " 7   LotConfig      1460 non-null   object \n",
      " 8   LandSlope      1460 non-null   object \n",
      " 9   Neighborhood   1460 non-null   object \n",
      " 10  Condition1     1460 non-null   object \n",
      " 11  BldgType       1460 non-null   object \n",
      " 12  HouseStyle     1460 non-null   object \n",
      " 13  OverallQual    1460 non-null   int64  \n",
      " 14  OverallCond    1460 non-null   int64  \n",
      " 15  YearBuilt      1460 non-null   int64  \n",
      " 16  YearRemodAdd   1460 non-null   int64  \n",
      " 17  RoofStyle      1460 non-null   object \n",
      " 18  Exterior1st    1460 non-null   object \n",
      " 19  Exterior2nd    1460 non-null   object \n",
      " 20  MasVnrType     1452 non-null   object \n",
      " 21  MasVnrArea     1452 non-null   float64\n",
      " 22  ExterQual      1460 non-null   object \n",
      " 23  ExterCond      1460 non-null   object \n",
      " 24  Foundation     1460 non-null   object \n",
      " 25  BsmtQual       1423 non-null   object \n",
      " 26  BsmtCond       1423 non-null   object \n",
      " 27  BsmtExposure   1422 non-null   object \n",
      " 28  BsmtFinType1   1423 non-null   object \n",
      " 29  BsmtFinSF1     1460 non-null   int64  \n",
      " 30  BsmtFinType2   1422 non-null   object \n",
      " 31  BsmtFinSF2     1460 non-null   int64  \n",
      " 32  BsmtUnfSF      1460 non-null   int64  \n",
      " 33  TotalBsmtSF    1460 non-null   int64  \n",
      " 34  HeatingQC      1460 non-null   object \n",
      " 35  CentralAir     1460 non-null   object \n",
      " 36  Electrical     1459 non-null   object \n",
      " 37  1stFlrSF       1460 non-null   int64  \n",
      " 38  2ndFlrSF       1460 non-null   int64  \n",
      " 39  LowQualFinSF   1460 non-null   int64  \n",
      " 40  GrLivArea      1460 non-null   int64  \n",
      " 41  BsmtFullBath   1460 non-null   int64  \n",
      " 42  BsmtHalfBath   1460 non-null   int64  \n",
      " 43  FullBath       1460 non-null   int64  \n",
      " 44  HalfBath       1460 non-null   int64  \n",
      " 45  BedroomAbvGr   1460 non-null   int64  \n",
      " 46  KitchenAbvGr   1460 non-null   int64  \n",
      " 47  KitchenQual    1460 non-null   object \n",
      " 48  TotRmsAbvGrd   1460 non-null   int64  \n",
      " 49  Functional     1460 non-null   object \n",
      " 50  Fireplaces     1460 non-null   int64  \n",
      " 51  FireplaceQu    770 non-null    object \n",
      " 52  GarageType     1379 non-null   object \n",
      " 53  GarageYrBlt    1379 non-null   float64\n",
      " 54  GarageFinish   1379 non-null   object \n",
      " 55  GarageCars     1460 non-null   int64  \n",
      " 56  GarageArea     1460 non-null   int64  \n",
      " 57  PavedDrive     1460 non-null   object \n",
      " 58  WoodDeckSF     1460 non-null   int64  \n",
      " 59  OpenPorchSF    1460 non-null   int64  \n",
      " 60  EnclosedPorch  1460 non-null   int64  \n",
      " 61  3SsnPorch      1460 non-null   int64  \n",
      " 62  ScreenPorch    1460 non-null   int64  \n",
      " 63  PoolArea       1460 non-null   int64  \n",
      " 64  Fence          281 non-null    object \n",
      " 65  MiscVal        1460 non-null   int64  \n",
      " 66  MoSold         1460 non-null   int64  \n",
      " 67  YrSold         1460 non-null   int64  \n",
      " 68  SaleType       1460 non-null   object \n",
      " 69  SaleCondition  1460 non-null   object \n",
      " 70  SalePrice      1460 non-null   int64  \n",
      "dtypes: float64(3), int64(34), object(34)\n",
      "memory usage: 810.0+ KB\n"
     ]
    }
   ],
   "source": [
    "data_train.info()"
   ]
  },
  {
   "cell_type": "markdown",
   "metadata": {},
   "source": [
    "Преобразуем оставшиеся категориальные признаки."
   ]
  },
  {
   "cell_type": "code",
   "execution_count": 347,
   "metadata": {},
   "outputs": [
    {
     "data": {
      "text/plain": [
       "Index(['MSZoning', 'Alley', 'LotShape', 'LandContour', 'LotConfig',\n",
       "       'LandSlope', 'Neighborhood', 'Condition1', 'BldgType', 'HouseStyle',\n",
       "       'RoofStyle', 'Exterior1st', 'Exterior2nd', 'MasVnrType', 'ExterQual',\n",
       "       'ExterCond', 'Foundation', 'BsmtQual', 'BsmtCond', 'BsmtExposure',\n",
       "       'BsmtFinType1', 'BsmtFinType2', 'HeatingQC', 'CentralAir', 'Electrical',\n",
       "       'KitchenQual', 'Functional', 'FireplaceQu', 'GarageType',\n",
       "       'GarageFinish', 'PavedDrive', 'Fence', 'SaleType', 'SaleCondition'],\n",
       "      dtype='object')"
      ]
     },
     "execution_count": 347,
     "metadata": {},
     "output_type": "execute_result"
    }
   ],
   "source": [
    "categorical_columns = data_train.columns[data_train.dtypes == 'object']\n",
    "categorical_columns"
   ]
  },
  {
   "cell_type": "code",
   "execution_count": 348,
   "metadata": {},
   "outputs": [],
   "source": [
    "from sklearn.preprocessing import LabelEncoder\n",
    "labelencoder = LabelEncoder()"
   ]
  },
  {
   "cell_type": "code",
   "execution_count": 349,
   "metadata": {},
   "outputs": [],
   "source": [
    "for var in categorical_columns:\n",
    "    data_train[var].replace(np.nan, 'Nan', inplace=True)\n",
    "    data_train.loc[:, var] = labelencoder.fit_transform(data_train.loc[:, var] )"
   ]
  },
  {
   "cell_type": "code",
   "execution_count": 350,
   "metadata": {},
   "outputs": [
    {
     "name": "stdout",
     "output_type": "stream",
     "text": [
      "<class 'pandas.core.frame.DataFrame'>\n",
      "RangeIndex: 1460 entries, 0 to 1459\n",
      "Data columns (total 71 columns):\n",
      " #   Column         Non-Null Count  Dtype  \n",
      "---  ------         --------------  -----  \n",
      " 0   MSSubClass     1460 non-null   int64  \n",
      " 1   MSZoning       1460 non-null   int64  \n",
      " 2   LotFrontage    1201 non-null   float64\n",
      " 3   LotArea        1460 non-null   int64  \n",
      " 4   Alley          1460 non-null   int64  \n",
      " 5   LotShape       1460 non-null   int64  \n",
      " 6   LandContour    1460 non-null   int64  \n",
      " 7   LotConfig      1460 non-null   int64  \n",
      " 8   LandSlope      1460 non-null   int64  \n",
      " 9   Neighborhood   1460 non-null   int64  \n",
      " 10  Condition1     1460 non-null   int64  \n",
      " 11  BldgType       1460 non-null   int64  \n",
      " 12  HouseStyle     1460 non-null   int64  \n",
      " 13  OverallQual    1460 non-null   int64  \n",
      " 14  OverallCond    1460 non-null   int64  \n",
      " 15  YearBuilt      1460 non-null   int64  \n",
      " 16  YearRemodAdd   1460 non-null   int64  \n",
      " 17  RoofStyle      1460 non-null   int64  \n",
      " 18  Exterior1st    1460 non-null   int64  \n",
      " 19  Exterior2nd    1460 non-null   int64  \n",
      " 20  MasVnrType     1460 non-null   int64  \n",
      " 21  MasVnrArea     1452 non-null   float64\n",
      " 22  ExterQual      1460 non-null   int64  \n",
      " 23  ExterCond      1460 non-null   int64  \n",
      " 24  Foundation     1460 non-null   int64  \n",
      " 25  BsmtQual       1460 non-null   int64  \n",
      " 26  BsmtCond       1460 non-null   int64  \n",
      " 27  BsmtExposure   1460 non-null   int64  \n",
      " 28  BsmtFinType1   1460 non-null   int64  \n",
      " 29  BsmtFinSF1     1460 non-null   int64  \n",
      " 30  BsmtFinType2   1460 non-null   int64  \n",
      " 31  BsmtFinSF2     1460 non-null   int64  \n",
      " 32  BsmtUnfSF      1460 non-null   int64  \n",
      " 33  TotalBsmtSF    1460 non-null   int64  \n",
      " 34  HeatingQC      1460 non-null   int64  \n",
      " 35  CentralAir     1460 non-null   int64  \n",
      " 36  Electrical     1460 non-null   int64  \n",
      " 37  1stFlrSF       1460 non-null   int64  \n",
      " 38  2ndFlrSF       1460 non-null   int64  \n",
      " 39  LowQualFinSF   1460 non-null   int64  \n",
      " 40  GrLivArea      1460 non-null   int64  \n",
      " 41  BsmtFullBath   1460 non-null   int64  \n",
      " 42  BsmtHalfBath   1460 non-null   int64  \n",
      " 43  FullBath       1460 non-null   int64  \n",
      " 44  HalfBath       1460 non-null   int64  \n",
      " 45  BedroomAbvGr   1460 non-null   int64  \n",
      " 46  KitchenAbvGr   1460 non-null   int64  \n",
      " 47  KitchenQual    1460 non-null   int64  \n",
      " 48  TotRmsAbvGrd   1460 non-null   int64  \n",
      " 49  Functional     1460 non-null   int64  \n",
      " 50  Fireplaces     1460 non-null   int64  \n",
      " 51  FireplaceQu    1460 non-null   int64  \n",
      " 52  GarageType     1460 non-null   int64  \n",
      " 53  GarageYrBlt    1379 non-null   float64\n",
      " 54  GarageFinish   1460 non-null   int64  \n",
      " 55  GarageCars     1460 non-null   int64  \n",
      " 56  GarageArea     1460 non-null   int64  \n",
      " 57  PavedDrive     1460 non-null   int64  \n",
      " 58  WoodDeckSF     1460 non-null   int64  \n",
      " 59  OpenPorchSF    1460 non-null   int64  \n",
      " 60  EnclosedPorch  1460 non-null   int64  \n",
      " 61  3SsnPorch      1460 non-null   int64  \n",
      " 62  ScreenPorch    1460 non-null   int64  \n",
      " 63  PoolArea       1460 non-null   int64  \n",
      " 64  Fence          1460 non-null   int64  \n",
      " 65  MiscVal        1460 non-null   int64  \n",
      " 66  MoSold         1460 non-null   int64  \n",
      " 67  YrSold         1460 non-null   int64  \n",
      " 68  SaleType       1460 non-null   int64  \n",
      " 69  SaleCondition  1460 non-null   int64  \n",
      " 70  SalePrice      1460 non-null   int64  \n",
      "dtypes: float64(3), int64(68)\n",
      "memory usage: 810.0 KB\n"
     ]
    }
   ],
   "source": [
    "data_train.info()"
   ]
  },
  {
   "cell_type": "markdown",
   "metadata": {},
   "source": [
    "Удалим пустые значения"
   ]
  },
  {
   "cell_type": "code",
   "execution_count": 351,
   "metadata": {},
   "outputs": [],
   "source": [
    "data_train.dropna(inplace=True)"
   ]
  },
  {
   "cell_type": "code",
   "execution_count": 352,
   "metadata": {},
   "outputs": [
    {
     "name": "stdout",
     "output_type": "stream",
     "text": [
      "<class 'pandas.core.frame.DataFrame'>\n",
      "Int64Index: 1121 entries, 0 to 1459\n",
      "Data columns (total 71 columns):\n",
      " #   Column         Non-Null Count  Dtype  \n",
      "---  ------         --------------  -----  \n",
      " 0   MSSubClass     1121 non-null   int64  \n",
      " 1   MSZoning       1121 non-null   int64  \n",
      " 2   LotFrontage    1121 non-null   float64\n",
      " 3   LotArea        1121 non-null   int64  \n",
      " 4   Alley          1121 non-null   int64  \n",
      " 5   LotShape       1121 non-null   int64  \n",
      " 6   LandContour    1121 non-null   int64  \n",
      " 7   LotConfig      1121 non-null   int64  \n",
      " 8   LandSlope      1121 non-null   int64  \n",
      " 9   Neighborhood   1121 non-null   int64  \n",
      " 10  Condition1     1121 non-null   int64  \n",
      " 11  BldgType       1121 non-null   int64  \n",
      " 12  HouseStyle     1121 non-null   int64  \n",
      " 13  OverallQual    1121 non-null   int64  \n",
      " 14  OverallCond    1121 non-null   int64  \n",
      " 15  YearBuilt      1121 non-null   int64  \n",
      " 16  YearRemodAdd   1121 non-null   int64  \n",
      " 17  RoofStyle      1121 non-null   int64  \n",
      " 18  Exterior1st    1121 non-null   int64  \n",
      " 19  Exterior2nd    1121 non-null   int64  \n",
      " 20  MasVnrType     1121 non-null   int64  \n",
      " 21  MasVnrArea     1121 non-null   float64\n",
      " 22  ExterQual      1121 non-null   int64  \n",
      " 23  ExterCond      1121 non-null   int64  \n",
      " 24  Foundation     1121 non-null   int64  \n",
      " 25  BsmtQual       1121 non-null   int64  \n",
      " 26  BsmtCond       1121 non-null   int64  \n",
      " 27  BsmtExposure   1121 non-null   int64  \n",
      " 28  BsmtFinType1   1121 non-null   int64  \n",
      " 29  BsmtFinSF1     1121 non-null   int64  \n",
      " 30  BsmtFinType2   1121 non-null   int64  \n",
      " 31  BsmtFinSF2     1121 non-null   int64  \n",
      " 32  BsmtUnfSF      1121 non-null   int64  \n",
      " 33  TotalBsmtSF    1121 non-null   int64  \n",
      " 34  HeatingQC      1121 non-null   int64  \n",
      " 35  CentralAir     1121 non-null   int64  \n",
      " 36  Electrical     1121 non-null   int64  \n",
      " 37  1stFlrSF       1121 non-null   int64  \n",
      " 38  2ndFlrSF       1121 non-null   int64  \n",
      " 39  LowQualFinSF   1121 non-null   int64  \n",
      " 40  GrLivArea      1121 non-null   int64  \n",
      " 41  BsmtFullBath   1121 non-null   int64  \n",
      " 42  BsmtHalfBath   1121 non-null   int64  \n",
      " 43  FullBath       1121 non-null   int64  \n",
      " 44  HalfBath       1121 non-null   int64  \n",
      " 45  BedroomAbvGr   1121 non-null   int64  \n",
      " 46  KitchenAbvGr   1121 non-null   int64  \n",
      " 47  KitchenQual    1121 non-null   int64  \n",
      " 48  TotRmsAbvGrd   1121 non-null   int64  \n",
      " 49  Functional     1121 non-null   int64  \n",
      " 50  Fireplaces     1121 non-null   int64  \n",
      " 51  FireplaceQu    1121 non-null   int64  \n",
      " 52  GarageType     1121 non-null   int64  \n",
      " 53  GarageYrBlt    1121 non-null   float64\n",
      " 54  GarageFinish   1121 non-null   int64  \n",
      " 55  GarageCars     1121 non-null   int64  \n",
      " 56  GarageArea     1121 non-null   int64  \n",
      " 57  PavedDrive     1121 non-null   int64  \n",
      " 58  WoodDeckSF     1121 non-null   int64  \n",
      " 59  OpenPorchSF    1121 non-null   int64  \n",
      " 60  EnclosedPorch  1121 non-null   int64  \n",
      " 61  3SsnPorch      1121 non-null   int64  \n",
      " 62  ScreenPorch    1121 non-null   int64  \n",
      " 63  PoolArea       1121 non-null   int64  \n",
      " 64  Fence          1121 non-null   int64  \n",
      " 65  MiscVal        1121 non-null   int64  \n",
      " 66  MoSold         1121 non-null   int64  \n",
      " 67  YrSold         1121 non-null   int64  \n",
      " 68  SaleType       1121 non-null   int64  \n",
      " 69  SaleCondition  1121 non-null   int64  \n",
      " 70  SalePrice      1121 non-null   int64  \n",
      "dtypes: float64(3), int64(68)\n",
      "memory usage: 630.6 KB\n"
     ]
    }
   ],
   "source": [
    "data_train.info()"
   ]
  },
  {
   "cell_type": "code",
   "execution_count": 353,
   "metadata": {},
   "outputs": [],
   "source": [
    "X = data_train[data_train.columns[:-1]]\n",
    "y = data_train['SalePrice']"
   ]
  },
  {
   "cell_type": "code",
   "execution_count": 354,
   "metadata": {},
   "outputs": [
    {
     "data": {
      "text/plain": [
       "RandomForestClassifier(bootstrap=True, ccp_alpha=0.0, class_weight=None,\n",
       "                       criterion='gini', max_depth=5, max_features=0.5,\n",
       "                       max_leaf_nodes=None, max_samples=None,\n",
       "                       min_impurity_decrease=0.0, min_impurity_split=None,\n",
       "                       min_samples_leaf=20, min_samples_split=2,\n",
       "                       min_weight_fraction_leaf=0.0, n_estimators=10, n_jobs=-1,\n",
       "                       oob_score=False, random_state=None, verbose=0,\n",
       "                       warm_start=False)"
      ]
     },
     "execution_count": 354,
     "metadata": {},
     "output_type": "execute_result"
    }
   ],
   "source": [
    "from sklearn.ensemble import RandomForestClassifier\n",
    "\n",
    "clf_rf = RandomForestClassifier(n_estimators=10, max_depth=5, min_samples_leaf=20, max_features=0.5, n_jobs=-1)\n",
    "clf_rf.fit(X, y)   "
   ]
  },
  {
   "cell_type": "code",
   "execution_count": 355,
   "metadata": {},
   "outputs": [],
   "source": [
    "import matplotlib.pyplot as plt\n",
    "import seaborn as sns"
   ]
  },
  {
   "cell_type": "code",
   "execution_count": 356,
   "metadata": {},
   "outputs": [
    {
     "name": "stderr",
     "output_type": "stream",
     "text": [
      "No handles with labels found to put in legend.\n"
     ]
    },
    {
     "data": {
      "image/png": "[encoded data removed]",
      "text/plain": [
       "<Figure size 4320x4320 with 1 Axes>"
      ]
     },
     "metadata": {
      "needs_background": "light"
     },
     "output_type": "display_data"
    }
   ],
   "source": [
    "headers = list(X.columns.values)\n",
    "\n",
    "feature_imp = pd.Series(clf_rf.feature_importances_,index=headers).sort_values(ascending=False)\n",
    "\n",
    "f, ax = plt.subplots(figsize=(60, 60))\n",
    "sns.barplot(x=feature_imp, y=feature_imp.index)\n",
    "\n",
    "plt.xlabel('Важность атрибутов')\n",
    "plt.ylabel('Атрибуты')\n",
    "plt.title(\"Наиболее важные атрибуты\")\n",
    "plt.legend()\n",
    "plt.show()"
   ]
  },
  {
   "cell_type": "code",
   "execution_count": 357,
   "metadata": {},
   "outputs": [
    {
     "data": {
      "text/plain": [
       "42"
      ]
     },
     "execution_count": 357,
     "metadata": {},
     "output_type": "execute_result"
    }
   ],
   "source": [
    "feature_imp_n = feature_imp[feature_imp > 0]\n",
    "len(feature_imp_n)"
   ]
  },
  {
   "cell_type": "code",
   "execution_count": 358,
   "metadata": {},
   "outputs": [],
   "source": [
    "feature_imp_n_index = feature_imp.index[:len(feature_imp_n)]"
   ]
  },
  {
   "cell_type": "code",
   "execution_count": 359,
   "metadata": {},
   "outputs": [
    {
     "name": "stderr",
     "output_type": "stream",
     "text": [
      "No handles with labels found to put in legend.\n"
     ]
    },
    {
     "data": {
      "image/png": "[encoded data removed]",
      "text/plain": [
       "<Figure size 720x720 with 1 Axes>"
      ]
     },
     "metadata": {
      "needs_background": "light"
     },
     "output_type": "display_data"
    }
   ],
   "source": [
    "f, ax = plt.subplots(figsize=(10, 10))\n",
    "sns.barplot(x=feature_imp_n, y=feature_imp_n_index)\n",
    "\n",
    "plt.xlabel('Важность атрибутов')\n",
    "plt.ylabel('Атрибуты')\n",
    "plt.title(\"Наиболее важные атрибуты\")\n",
    "plt.legend()\n",
    "plt.show()"
   ]
  },
  {
   "cell_type": "code",
   "execution_count": 418,
   "metadata": {},
   "outputs": [],
   "source": [
    "data_train_N = pd.read_csv('/Users/macbook/Desktop/Data1Science/Machine_Learning/Лекция9/house-prices-advanced-regression-techniques/train.csv')"
   ]
  },
  {
   "cell_type": "code",
   "execution_count": 419,
   "metadata": {},
   "outputs": [],
   "source": [
    "data_train_N.drop(['Street', 'Utilities', 'Condition2', 'RoofMatl', 'Heating', 'GarageQual', 'GarageCond', 'PoolQC', 'MiscFeature'], axis='columns', inplace=True)\n",
    "data_train_N.drop(['Id'], axis='columns', inplace=True)"
   ]
  },
  {
   "cell_type": "markdown",
   "metadata": {},
   "source": [
    "Делю на 2 фолда, чтобы потом потом еще поделить на 2 и получить 4 фолда, на 3 буду обучать слабых учников, на последнем фолде - модель."
   ]
  },
  {
   "cell_type": "code",
   "execution_count": 420,
   "metadata": {},
   "outputs": [],
   "source": [
    "from sklearn.model_selection import train_test_split\n",
    "X = data_train_N[data_train_N.columns[:-1]]\n",
    "y = data_train_N['SalePrice'] \n",
    "X_train_1, X_train_2, y_train_1, y_train_2 = train_test_split(X, y, test_size=0.5, random_state = 1000)"
   ]
  },
  {
   "cell_type": "code",
   "execution_count": 421,
   "metadata": {},
   "outputs": [],
   "source": [
    "X_train_3, X_train_4, y_train_3, y_train_4 = train_test_split(X_train_1, y_train_1, test_size=0.5, random_state = 1000)"
   ]
  },
  {
   "cell_type": "code",
   "execution_count": 422,
   "metadata": {},
   "outputs": [],
   "source": [
    "X_train_1, X_train_2, y_train_1, y_train_2 = train_test_split(X_train_2, y_train_2, test_size=0.5, random_state = 1000)"
   ]
  },
  {
   "cell_type": "markdown",
   "metadata": {},
   "source": [
    "Теперь есть 4 фолда"
   ]
  },
  {
   "cell_type": "markdown",
   "metadata": {},
   "source": [
    "RandomForestClassifier первый слабый ученик"
   ]
  },
  {
   "cell_type": "code",
   "execution_count": 423,
   "metadata": {},
   "outputs": [],
   "source": [
    "from sklearn.ensemble import RandomForestClassifier\n",
    "RFC= RandomForestClassifier(n_estimators=10, max_depth=5, min_samples_leaf=20, max_features=0.5, n_jobs=-1)"
   ]
  },
  {
   "cell_type": "markdown",
   "metadata": {},
   "source": [
    "LinearRegression второй слабый ученик"
   ]
  },
  {
   "cell_type": "code",
   "execution_count": 424,
   "metadata": {},
   "outputs": [],
   "source": [
    "from sklearn.linear_model import LinearRegression\n",
    "LinR = LinearRegression()"
   ]
  },
  {
   "cell_type": "markdown",
   "metadata": {},
   "source": [
    "SVM третий слабый ученик"
   ]
  },
  {
   "cell_type": "code",
   "execution_count": 425,
   "metadata": {},
   "outputs": [],
   "source": [
    "from sklearn import svm\n",
    "LSVM = svm.SVC(kernel='linear', C=1.0)"
   ]
  },
  {
   "cell_type": "markdown",
   "metadata": {},
   "source": [
    "Подготовим данные для обучения, будем обучать разные модели на разных признаках, чтобы не мучаться с преобразованием данных. Для SVM и LinearRegression обучаем только на int и float. Для RandomForestClassifier преобразуем по LabelEncoder"
   ]
  },
  {
   "cell_type": "code",
   "execution_count": 523,
   "metadata": {},
   "outputs": [],
   "source": [
    "X_train_1"
   ]
  },
  {
   "cell_type": "code",
   "execution_count": 427,
   "metadata": {},
   "outputs": [],
   "source": [
    "categorical_columns = X_train_1.columns[X_train_1.dtypes == 'object']\n",
    "\n",
    "for var in categorical_columns:\n",
    "    X_train_1.drop([var], axis='columns', inplace=True)"
   ]
  },
  {
   "cell_type": "code",
   "execution_count": 524,
   "metadata": {},
   "outputs": [],
   "source": [
    "X_train_2"
   ]
  },
  {
   "cell_type": "code",
   "execution_count": 429,
   "metadata": {},
   "outputs": [],
   "source": [
    "categorical_columns = X_train_2.columns[X_train_2.dtypes == 'object']\n",
    "\n",
    "for var in categorical_columns:\n",
    "    X_train_2.drop([var], axis='columns', inplace=True)"
   ]
  },
  {
   "cell_type": "code",
   "execution_count": 525,
   "metadata": {},
   "outputs": [],
   "source": [
    "X_train_3"
   ]
  },
  {
   "cell_type": "code",
   "execution_count": 431,
   "metadata": {},
   "outputs": [
    {
     "data": {
      "text/plain": [
       "Index(['MSZoning', 'Alley', 'LotShape', 'LandContour', 'LotConfig',\n",
       "       'LandSlope', 'Neighborhood', 'Condition1', 'BldgType', 'HouseStyle',\n",
       "       'RoofStyle', 'Exterior1st', 'Exterior2nd', 'MasVnrType', 'ExterQual',\n",
       "       'ExterCond', 'Foundation', 'BsmtQual', 'BsmtCond', 'BsmtExposure',\n",
       "       'BsmtFinType1', 'BsmtFinType2', 'HeatingQC', 'CentralAir', 'Electrical',\n",
       "       'KitchenQual', 'Functional', 'FireplaceQu', 'GarageType',\n",
       "       'GarageFinish', 'PavedDrive', 'Fence', 'SaleType', 'SaleCondition'],\n",
       "      dtype='object')"
      ]
     },
     "execution_count": 431,
     "metadata": {},
     "output_type": "execute_result"
    }
   ],
   "source": [
    "categorical_columns = X_train_3.columns[X_train_3.dtypes == 'object']\n",
    "categorical_columns"
   ]
  },
  {
   "cell_type": "code",
   "execution_count": 432,
   "metadata": {},
   "outputs": [],
   "source": [
    "from sklearn.preprocessing import LabelEncoder\n",
    "labelencoder = LabelEncoder()"
   ]
  },
  {
   "cell_type": "code",
   "execution_count": 433,
   "metadata": {},
   "outputs": [],
   "source": [
    "for var in categorical_columns:\n",
    "    X_train_3[var].replace(np.nan, 'Nan', inplace=True)\n",
    "    X_train_3.loc[:, var] = labelencoder.fit_transform(X_train_3.loc[:, var] )"
   ]
  },
  {
   "cell_type": "markdown",
   "metadata": {},
   "source": [
    "Для чистки от нулей предварительно соед. X и y"
   ]
  },
  {
   "cell_type": "code",
   "execution_count": 448,
   "metadata": {},
   "outputs": [],
   "source": [
    "X_1 = pd.concat([X_train_1, y_train_1], axis=1)\n",
    "X_2 = pd.concat([X_train_2, y_train_2], axis=1)\n",
    "X_3 = pd.concat([X_train_3, y_train_3], axis=1)"
   ]
  },
  {
   "cell_type": "markdown",
   "metadata": {},
   "source": [
    "Чистка от нулей"
   ]
  },
  {
   "cell_type": "code",
   "execution_count": 449,
   "metadata": {},
   "outputs": [],
   "source": [
    "X_1.dropna(inplace=True)\n",
    "X_2.dropna(inplace=True)\n",
    "X_3.dropna(inplace=True)"
   ]
  },
  {
   "cell_type": "markdown",
   "metadata": {},
   "source": [
    "Обучение слабых учеников"
   ]
  },
  {
   "cell_type": "code",
   "execution_count": 450,
   "metadata": {},
   "outputs": [
    {
     "data": {
      "text/plain": [
       "RandomForestClassifier(bootstrap=True, ccp_alpha=0.0, class_weight=None,\n",
       "                       criterion='gini', max_depth=5, max_features=0.5,\n",
       "                       max_leaf_nodes=None, max_samples=None,\n",
       "                       min_impurity_decrease=0.0, min_impurity_split=None,\n",
       "                       min_samples_leaf=20, min_samples_split=2,\n",
       "                       min_weight_fraction_leaf=0.0, n_estimators=10, n_jobs=-1,\n",
       "                       oob_score=False, random_state=None, verbose=0,\n",
       "                       warm_start=False)"
      ]
     },
     "execution_count": 450,
     "metadata": {},
     "output_type": "execute_result"
    }
   ],
   "source": [
    "X_train_1 = X_1[X_1.columns[:-1]]\n",
    "y_train_1 = X_1['SalePrice']\n",
    "Lin_reg =  LinR.fit(X_train_1, y_train_1) \n",
    "\n",
    "X_train_2 = X_2[X_1.columns[:-1]]\n",
    "y_train_2 = X_2['SalePrice']\n",
    "LSVM.fit(X_train_2, y_train_2) \n",
    "\n",
    "X_train_3 = X_3[X_1.columns[:-1]]\n",
    "y_train_3 = X_3['SalePrice']\n",
    "RFC.fit(X_train_3, y_train_3)     "
   ]
  },
  {
   "cell_type": "markdown",
   "metadata": {},
   "source": [
    "Для получения прогнозов, подготовим для Lin_reg, LSVM и RFC данные"
   ]
  },
  {
   "cell_type": "code",
   "execution_count": 468,
   "metadata": {},
   "outputs": [],
   "source": [
    "X_4 = pd.concat([X_train_4, y_train_4], axis=1)"
   ]
  },
  {
   "cell_type": "code",
   "execution_count": 469,
   "metadata": {},
   "outputs": [],
   "source": [
    "X_4.dropna(inplace=True)"
   ]
  },
  {
   "cell_type": "code",
   "execution_count": 470,
   "metadata": {},
   "outputs": [],
   "source": [
    "X_train_4_lin = X_4[X_4.columns[:-1]]\n",
    "X_train_4_rfc = X_4[X_4.columns[:-1]]\n",
    "categorical_columns = X_train_4_lin.columns[X_train_4_lin.dtypes == 'object']\n",
    "\n",
    "for var in categorical_columns:\n",
    "    X_train_4_lin.drop([var], axis='columns', inplace=True)"
   ]
  },
  {
   "cell_type": "code",
   "execution_count": 471,
   "metadata": {},
   "outputs": [],
   "source": [
    "from sklearn.preprocessing import LabelEncoder\n",
    "labelencoder = LabelEncoder()\n",
    "for var in categorical_columns:\n",
    "    X_train_4_rfc[var].replace(np.nan, 'Nan', inplace=True)\n",
    "    X_train_4_rfc.loc[:, var] = labelencoder.fit_transform(X_train_4_rfc.loc[:, var] )"
   ]
  },
  {
   "cell_type": "markdown",
   "metadata": {},
   "source": [
    "Прогнозы слабых учеников:"
   ]
  },
  {
   "cell_type": "code",
   "execution_count": 473,
   "metadata": {},
   "outputs": [],
   "source": [
    "y_pred_lin = Lin_reg.predict(X_train_4_lin)\n",
    "y_pred_lsvm = LSVM.predict(X_train_4_lin)\n",
    "y_pred_rfc = RFC.predict(X_train_4_rfc)"
   ]
  },
  {
   "cell_type": "code",
   "execution_count": 474,
   "metadata": {},
   "outputs": [
    {
     "data": {
      "text/plain": [
       "283"
      ]
     },
     "execution_count": 474,
     "metadata": {},
     "output_type": "execute_result"
    }
   ],
   "source": [
    "len(y_pred_rfc)"
   ]
  },
  {
   "cell_type": "code",
   "execution_count": 475,
   "metadata": {},
   "outputs": [],
   "source": [
    "y_train_4 = X_4['SalePrice']"
   ]
  },
  {
   "cell_type": "code",
   "execution_count": 476,
   "metadata": {},
   "outputs": [
    {
     "data": {
      "text/plain": [
       "283"
      ]
     },
     "execution_count": 476,
     "metadata": {},
     "output_type": "execute_result"
    }
   ],
   "source": [
    "len(y_train_4)"
   ]
  },
  {
   "cell_type": "code",
   "execution_count": 498,
   "metadata": {},
   "outputs": [],
   "source": [
    "MEGA_df_1 = pd.DataFrame(y_pred_lin)\n",
    "MEGA_df_2 = pd.DataFrame(y_pred_lsvm)\n",
    "MEGA_df_3 = pd.DataFrame(y_pred_rfc)\n",
    "MEGA_X_train = pd.concat([MEGA_df_1, MEGA_df_2, MEGA_df_3], axis=1)"
   ]
  },
  {
   "cell_type": "code",
   "execution_count": 499,
   "metadata": {},
   "outputs": [
    {
     "data": {
      "text/html": [
       "<div>\n",
       "<style scoped>\n",
       "    .dataframe tbody tr th:only-of-type {\n",
       "        vertical-align: middle;\n",
       "    }\n",
       "\n",
       "    .dataframe tbody tr th {\n",
       "        vertical-align: top;\n",
       "    }\n",
       "\n",
       "    .dataframe thead th {\n",
       "        text-align: right;\n",
       "    }\n",
       "</style>\n",
       "<table border=\"1\" class=\"dataframe\">\n",
       "  <thead>\n",
       "    <tr style=\"text-align: right;\">\n",
       "      <th></th>\n",
       "      <th>0</th>\n",
       "      <th>0</th>\n",
       "      <th>0</th>\n",
       "    </tr>\n",
       "  </thead>\n",
       "  <tbody>\n",
       "    <tr>\n",
       "      <th>0</th>\n",
       "      <td>194563.213672</td>\n",
       "      <td>203000</td>\n",
       "      <td>207500</td>\n",
       "    </tr>\n",
       "    <tr>\n",
       "      <th>1</th>\n",
       "      <td>206782.191848</td>\n",
       "      <td>152000</td>\n",
       "      <td>139000</td>\n",
       "    </tr>\n",
       "    <tr>\n",
       "      <th>2</th>\n",
       "      <td>60346.351829</td>\n",
       "      <td>157000</td>\n",
       "      <td>145000</td>\n",
       "    </tr>\n",
       "    <tr>\n",
       "      <th>3</th>\n",
       "      <td>113035.014315</td>\n",
       "      <td>131500</td>\n",
       "      <td>139000</td>\n",
       "    </tr>\n",
       "    <tr>\n",
       "      <th>4</th>\n",
       "      <td>356219.007530</td>\n",
       "      <td>255000</td>\n",
       "      <td>335000</td>\n",
       "    </tr>\n",
       "    <tr>\n",
       "      <th>...</th>\n",
       "      <td>...</td>\n",
       "      <td>...</td>\n",
       "      <td>...</td>\n",
       "    </tr>\n",
       "    <tr>\n",
       "      <th>278</th>\n",
       "      <td>215668.397226</td>\n",
       "      <td>189000</td>\n",
       "      <td>180500</td>\n",
       "    </tr>\n",
       "    <tr>\n",
       "      <th>279</th>\n",
       "      <td>274467.508424</td>\n",
       "      <td>236000</td>\n",
       "      <td>335000</td>\n",
       "    </tr>\n",
       "    <tr>\n",
       "      <th>280</th>\n",
       "      <td>87971.316191</td>\n",
       "      <td>174000</td>\n",
       "      <td>110000</td>\n",
       "    </tr>\n",
       "    <tr>\n",
       "      <th>281</th>\n",
       "      <td>255307.762080</td>\n",
       "      <td>181134</td>\n",
       "      <td>180500</td>\n",
       "    </tr>\n",
       "    <tr>\n",
       "      <th>282</th>\n",
       "      <td>221716.159816</td>\n",
       "      <td>150750</td>\n",
       "      <td>191000</td>\n",
       "    </tr>\n",
       "  </tbody>\n",
       "</table>\n",
       "<p>283 rows × 3 columns</p>\n",
       "</div>"
      ],
      "text/plain": [
       "                 0       0       0\n",
       "0    194563.213672  203000  207500\n",
       "1    206782.191848  152000  139000\n",
       "2     60346.351829  157000  145000\n",
       "3    113035.014315  131500  139000\n",
       "4    356219.007530  255000  335000\n",
       "..             ...     ...     ...\n",
       "278  215668.397226  189000  180500\n",
       "279  274467.508424  236000  335000\n",
       "280   87971.316191  174000  110000\n",
       "281  255307.762080  181134  180500\n",
       "282  221716.159816  150750  191000\n",
       "\n",
       "[283 rows x 3 columns]"
      ]
     },
     "execution_count": 499,
     "metadata": {},
     "output_type": "execute_result"
    }
   ],
   "source": [
    "MEGA_X_train"
   ]
  },
  {
   "cell_type": "markdown",
   "metadata": {},
   "source": [
    "Для обучения сильного ученика можно сделать свою нейронку, но для простоты использую LinearRegression"
   ]
  },
  {
   "cell_type": "code",
   "execution_count": 509,
   "metadata": {},
   "outputs": [
    {
     "name": "stdout",
     "output_type": "stream",
     "text": [
      "Weights: [0.63697449 0.35929573 0.17945181]\n",
      "Bias: -31124.296928712458\n",
      "Error: 23413.294464130395\n"
     ]
    }
   ],
   "source": [
    "from sklearn.metrics import mean_absolute_error\n",
    "reg = LinearRegression().fit(MEGA_X_train, y_train_4)\n",
    "print(f'Weights: {reg.coef_}')\n",
    "print(f'Bias: {reg.intercept_}')\n",
    "\n",
    "pred_values = reg.predict(MEGA_X_train)\n",
    "print('Error: {}'.format(mean_absolute_error(pred_values, y_train_4)))"
   ]
  },
  {
   "cell_type": "code",
   "execution_count": 522,
   "metadata": {},
   "outputs": [
    {
     "name": "stdout",
     "output_type": "stream",
     "text": [
      "9.17%\n"
     ]
    }
   ],
   "source": [
    "print(f'{23413/255307 * 100:.2f}%') "
   ]
  },
  {
   "cell_type": "markdown",
   "metadata": {},
   "source": [
    "Относительная ошибка при стоимости жилья в 255307 у.е. составила 9%"
   ]
  },
  {
   "cell_type": "code",
   "execution_count": null,
   "metadata": {},
   "outputs": [],
   "source": []
  },
  {
   "cell_type": "code",
   "execution_count": null,
   "metadata": {},
   "outputs": [],
   "source": []
  }
 ],
 "metadata": {
  "kernelspec": {
   "display_name": "Python 3",
   "language": "python",
   "name": "python3"
  },
  "language_info": {
   "codemirror_mode": {
    "name": "ipython",
    "version": 3
   },
   "file_extension": ".py",
   "mimetype": "text/x-python",
   "name": "python",
   "nbconvert_exporter": "python",
   "pygments_lexer": "ipython3",
   "version": "3.7.6"
  }
 },
 "nbformat": 4,
 "nbformat_minor": 4
}

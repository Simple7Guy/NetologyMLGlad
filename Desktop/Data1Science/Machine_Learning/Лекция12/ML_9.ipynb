{
 "cells": [
  {
   "cell_type": "code",
   "execution_count": 1,
   "metadata": {},
   "outputs": [],
   "source": [
    "from surprise import KNNWithMeans, KNNBasic\n",
    "from surprise import Dataset\n",
    "from surprise import accuracy\n",
    "from surprise import Reader\n",
    "from surprise.model_selection import train_test_split\n",
    "\n",
    "import pandas as pd\n",
    "from surprise.model_selection import cross_validate\n"
   ]
  },
  {
   "cell_type": "code",
   "execution_count": 2,
   "metadata": {},
   "outputs": [],
   "source": [
    "movies = pd.read_csv('movies.csv')\n",
    "ratings = pd.read_csv('ratings.csv')"
   ]
  },
  {
   "cell_type": "code",
   "execution_count": 3,
   "metadata": {},
   "outputs": [],
   "source": [
    "movies_with_ratings = movies.join(ratings.set_index('movieId'), on='movieId').reset_index(drop=True)\n",
    "movies_with_ratings.dropna(inplace=True)"
   ]
  },
  {
   "cell_type": "code",
   "execution_count": 4,
   "metadata": {},
   "outputs": [],
   "source": [
    "dataset = pd.DataFrame({\n",
    "    'uid': movies_with_ratings.userId,\n",
    "    'iid': movies_with_ratings.title,\n",
    "    'rating': movies_with_ratings.rating\n",
    "})"
   ]
  },
  {
   "cell_type": "code",
   "execution_count": 45,
   "metadata": {},
   "outputs": [
    {
     "data": {
      "text/html": [
       "<div>\n",
       "<style scoped>\n",
       "    .dataframe tbody tr th:only-of-type {\n",
       "        vertical-align: middle;\n",
       "    }\n",
       "\n",
       "    .dataframe tbody tr th {\n",
       "        vertical-align: top;\n",
       "    }\n",
       "\n",
       "    .dataframe thead th {\n",
       "        text-align: right;\n",
       "    }\n",
       "</style>\n",
       "<table border=\"1\" class=\"dataframe\">\n",
       "  <thead>\n",
       "    <tr style=\"text-align: right;\">\n",
       "      <th></th>\n",
       "      <th>uid</th>\n",
       "      <th>iid</th>\n",
       "      <th>rating</th>\n",
       "    </tr>\n",
       "  </thead>\n",
       "  <tbody>\n",
       "    <tr>\n",
       "      <th>0</th>\n",
       "      <td>4.0</td>\n",
       "      <td>Toy Story (1995)</td>\n",
       "      <td>4.0</td>\n",
       "    </tr>\n",
       "    <tr>\n",
       "      <th>1</th>\n",
       "      <td>10.0</td>\n",
       "      <td>Toy Story (1995)</td>\n",
       "      <td>5.0</td>\n",
       "    </tr>\n",
       "    <tr>\n",
       "      <th>2</th>\n",
       "      <td>14.0</td>\n",
       "      <td>Toy Story (1995)</td>\n",
       "      <td>4.5</td>\n",
       "    </tr>\n",
       "    <tr>\n",
       "      <th>3</th>\n",
       "      <td>15.0</td>\n",
       "      <td>Toy Story (1995)</td>\n",
       "      <td>4.0</td>\n",
       "    </tr>\n",
       "    <tr>\n",
       "      <th>4</th>\n",
       "      <td>22.0</td>\n",
       "      <td>Toy Story (1995)</td>\n",
       "      <td>4.0</td>\n",
       "    </tr>\n",
       "    <tr>\n",
       "      <th>...</th>\n",
       "      <td>...</td>\n",
       "      <td>...</td>\n",
       "      <td>...</td>\n",
       "    </tr>\n",
       "    <tr>\n",
       "      <th>95</th>\n",
       "      <td>399.0</td>\n",
       "      <td>Toy Story (1995)</td>\n",
       "      <td>4.0</td>\n",
       "    </tr>\n",
       "    <tr>\n",
       "      <th>96</th>\n",
       "      <td>400.0</td>\n",
       "      <td>Toy Story (1995)</td>\n",
       "      <td>3.0</td>\n",
       "    </tr>\n",
       "    <tr>\n",
       "      <th>97</th>\n",
       "      <td>402.0</td>\n",
       "      <td>Toy Story (1995)</td>\n",
       "      <td>4.5</td>\n",
       "    </tr>\n",
       "    <tr>\n",
       "      <th>98</th>\n",
       "      <td>408.0</td>\n",
       "      <td>Toy Story (1995)</td>\n",
       "      <td>3.0</td>\n",
       "    </tr>\n",
       "    <tr>\n",
       "      <th>99</th>\n",
       "      <td>412.0</td>\n",
       "      <td>Toy Story (1995)</td>\n",
       "      <td>3.0</td>\n",
       "    </tr>\n",
       "  </tbody>\n",
       "</table>\n",
       "<p>100 rows × 3 columns</p>\n",
       "</div>"
      ],
      "text/plain": [
       "      uid               iid  rating\n",
       "0     4.0  Toy Story (1995)     4.0\n",
       "1    10.0  Toy Story (1995)     5.0\n",
       "2    14.0  Toy Story (1995)     4.5\n",
       "3    15.0  Toy Story (1995)     4.0\n",
       "4    22.0  Toy Story (1995)     4.0\n",
       "..    ...               ...     ...\n",
       "95  399.0  Toy Story (1995)     4.0\n",
       "96  400.0  Toy Story (1995)     3.0\n",
       "97  402.0  Toy Story (1995)     4.5\n",
       "98  408.0  Toy Story (1995)     3.0\n",
       "99  412.0  Toy Story (1995)     3.0\n",
       "\n",
       "[100 rows x 3 columns]"
      ]
     },
     "execution_count": 45,
     "metadata": {},
     "output_type": "execute_result"
    }
   ],
   "source": [
    "dataset.head(100)"
   ]
  },
  {
   "cell_type": "code",
   "execution_count": 49,
   "metadata": {},
   "outputs": [
    {
     "data": {
      "text/html": [
       "<div>\n",
       "<style scoped>\n",
       "    .dataframe tbody tr th:only-of-type {\n",
       "        vertical-align: middle;\n",
       "    }\n",
       "\n",
       "    .dataframe tbody tr th {\n",
       "        vertical-align: top;\n",
       "    }\n",
       "\n",
       "    .dataframe thead th {\n",
       "        text-align: right;\n",
       "    }\n",
       "</style>\n",
       "<table border=\"1\" class=\"dataframe\">\n",
       "  <thead>\n",
       "    <tr style=\"text-align: right;\">\n",
       "      <th></th>\n",
       "      <th>uid</th>\n",
       "      <th>iid</th>\n",
       "      <th>rating</th>\n",
       "    </tr>\n",
       "  </thead>\n",
       "  <tbody>\n",
       "    <tr>\n",
       "      <th>16698601</th>\n",
       "      <td>1.0</td>\n",
       "      <td>Hollow Man (2000)</td>\n",
       "      <td>2.0</td>\n",
       "    </tr>\n",
       "    <tr>\n",
       "      <th>9445638</th>\n",
       "      <td>1.0</td>\n",
       "      <td>Waiting for Guffman (1996)</td>\n",
       "      <td>4.5</td>\n",
       "    </tr>\n",
       "    <tr>\n",
       "      <th>2425369</th>\n",
       "      <td>1.0</td>\n",
       "      <td>Three Colors: Blue (Trois couleurs: Bleu) (1993)</td>\n",
       "      <td>3.5</td>\n",
       "    </tr>\n",
       "    <tr>\n",
       "      <th>11890107</th>\n",
       "      <td>1.0</td>\n",
       "      <td>Weird Science (1985)</td>\n",
       "      <td>4.5</td>\n",
       "    </tr>\n",
       "    <tr>\n",
       "      <th>8277415</th>\n",
       "      <td>1.0</td>\n",
       "      <td>Better Off Dead... (1985)</td>\n",
       "      <td>4.5</td>\n",
       "    </tr>\n",
       "    <tr>\n",
       "      <th>...</th>\n",
       "      <td>...</td>\n",
       "      <td>...</td>\n",
       "      <td>...</td>\n",
       "    </tr>\n",
       "    <tr>\n",
       "      <th>7446677</th>\n",
       "      <td>283228.0</td>\n",
       "      <td>Raiders of the Lost Ark (Indiana Jones and the...</td>\n",
       "      <td>5.0</td>\n",
       "    </tr>\n",
       "    <tr>\n",
       "      <th>20768504</th>\n",
       "      <td>283228.0</td>\n",
       "      <td>Night at the Opera, A (1935)</td>\n",
       "      <td>4.5</td>\n",
       "    </tr>\n",
       "    <tr>\n",
       "      <th>11756169</th>\n",
       "      <td>283228.0</td>\n",
       "      <td>Splash (1984)</td>\n",
       "      <td>4.0</td>\n",
       "    </tr>\n",
       "    <tr>\n",
       "      <th>14922737</th>\n",
       "      <td>283228.0</td>\n",
       "      <td>Spaceballs (1987)</td>\n",
       "      <td>2.5</td>\n",
       "    </tr>\n",
       "    <tr>\n",
       "      <th>18688788</th>\n",
       "      <td>283228.0</td>\n",
       "      <td>Beautiful Mind, A (2001)</td>\n",
       "      <td>4.0</td>\n",
       "    </tr>\n",
       "  </tbody>\n",
       "</table>\n",
       "<p>27753444 rows × 3 columns</p>\n",
       "</div>"
      ],
      "text/plain": [
       "               uid                                                iid  rating\n",
       "16698601       1.0                                  Hollow Man (2000)     2.0\n",
       "9445638        1.0                         Waiting for Guffman (1996)     4.5\n",
       "2425369        1.0   Three Colors: Blue (Trois couleurs: Bleu) (1993)     3.5\n",
       "11890107       1.0                               Weird Science (1985)     4.5\n",
       "8277415        1.0                          Better Off Dead... (1985)     4.5\n",
       "...            ...                                                ...     ...\n",
       "7446677   283228.0  Raiders of the Lost Ark (Indiana Jones and the...     5.0\n",
       "20768504  283228.0                       Night at the Opera, A (1935)     4.5\n",
       "11756169  283228.0                                      Splash (1984)     4.0\n",
       "14922737  283228.0                                  Spaceballs (1987)     2.5\n",
       "18688788  283228.0                           Beautiful Mind, A (2001)     4.0\n",
       "\n",
       "[27753444 rows x 3 columns]"
      ]
     },
     "execution_count": 49,
     "metadata": {},
     "output_type": "execute_result"
    }
   ],
   "source": [
    "dataset = dataset.sort_values(by=['uid'])\n",
    "dataset"
   ]
  },
  {
   "cell_type": "code",
   "execution_count": 5,
   "metadata": {},
   "outputs": [
    {
     "data": {
      "text/plain": [
       "0.5"
      ]
     },
     "execution_count": 5,
     "metadata": {},
     "output_type": "execute_result"
    }
   ],
   "source": [
    "ratings.rating.min()"
   ]
  },
  {
   "cell_type": "code",
   "execution_count": 6,
   "metadata": {},
   "outputs": [
    {
     "data": {
      "text/plain": [
       "5.0"
      ]
     },
     "execution_count": 6,
     "metadata": {},
     "output_type": "execute_result"
    }
   ],
   "source": [
    "ratings.rating.max()"
   ]
  },
  {
   "cell_type": "code",
   "execution_count": 74,
   "metadata": {},
   "outputs": [
    {
     "data": {
      "text/plain": [
       "4796.0     4874\n",
       "7705.0     4546\n",
       "11109.0    3732\n",
       "2025.0     3238\n",
       "2150.0     2966\n",
       "           ... \n",
       "5443.0        1\n",
       "1348.0        1\n",
       "12169.0       1\n",
       "4319.0        1\n",
       "8885.0        1\n",
       "Name: uid, Length: 13094, dtype: int64"
      ]
     },
     "execution_count": 74,
     "metadata": {},
     "output_type": "execute_result"
    }
   ],
   "source": [
    "dataset_1 = dataset[:1300000]\n",
    "dataset_1.uid.value_counts()"
   ]
  },
  {
   "cell_type": "code",
   "execution_count": 75,
   "metadata": {},
   "outputs": [
    {
     "data": {
      "text/plain": [
       "Forrest Gump (1994)                  4470\n",
       "Shawshank Redemption, The (1994)     4453\n",
       "Pulp Fiction (1994)                  4235\n",
       "Silence of the Lambs, The (1991)     4039\n",
       "Matrix, The (1999)                   3854\n",
       "                                     ... \n",
       "Rabbit (2005)                           1\n",
       "When We Leave (Die Fremde) (2010)       1\n",
       "Such Good People (2014)                 1\n",
       "Scarecrows (1988)                       1\n",
       "Thunderbird Six (1968)                  1\n",
       "Name: iid, Length: 23478, dtype: int64"
      ]
     },
     "execution_count": 75,
     "metadata": {},
     "output_type": "execute_result"
    }
   ],
   "source": [
    "dataset_1.iid.value_counts()"
   ]
  },
  {
   "cell_type": "code",
   "execution_count": 120,
   "metadata": {},
   "outputs": [
    {
     "data": {
      "text/html": [
       "<div>\n",
       "<style scoped>\n",
       "    .dataframe tbody tr th:only-of-type {\n",
       "        vertical-align: middle;\n",
       "    }\n",
       "\n",
       "    .dataframe tbody tr th {\n",
       "        vertical-align: top;\n",
       "    }\n",
       "\n",
       "    .dataframe thead th {\n",
       "        text-align: right;\n",
       "    }\n",
       "</style>\n",
       "<table border=\"1\" class=\"dataframe\">\n",
       "  <thead>\n",
       "    <tr style=\"text-align: right;\">\n",
       "      <th></th>\n",
       "      <th>uid</th>\n",
       "      <th>iid</th>\n",
       "      <th>rating</th>\n",
       "    </tr>\n",
       "  </thead>\n",
       "  <tbody>\n",
       "    <tr>\n",
       "      <th>23439985</th>\n",
       "      <td>61133.0</td>\n",
       "      <td>\"Great Performances\" Cats (1998)</td>\n",
       "      <td>0.5</td>\n",
       "    </tr>\n",
       "    <tr>\n",
       "      <th>23439946</th>\n",
       "      <td>16196.0</td>\n",
       "      <td>\"Great Performances\" Cats (1998)</td>\n",
       "      <td>3.0</td>\n",
       "    </tr>\n",
       "    <tr>\n",
       "      <th>23439989</th>\n",
       "      <td>64533.0</td>\n",
       "      <td>\"Great Performances\" Cats (1998)</td>\n",
       "      <td>2.0</td>\n",
       "    </tr>\n",
       "    <tr>\n",
       "      <th>23440089</th>\n",
       "      <td>191814.0</td>\n",
       "      <td>\"Great Performances\" Cats (1998)</td>\n",
       "      <td>0.5</td>\n",
       "    </tr>\n",
       "    <tr>\n",
       "      <th>23440066</th>\n",
       "      <td>160365.0</td>\n",
       "      <td>\"Great Performances\" Cats (1998)</td>\n",
       "      <td>3.5</td>\n",
       "    </tr>\n",
       "    <tr>\n",
       "      <th>...</th>\n",
       "      <td>...</td>\n",
       "      <td>...</td>\n",
       "      <td>...</td>\n",
       "    </tr>\n",
       "    <tr>\n",
       "      <th>27186234</th>\n",
       "      <td>236981.0</td>\n",
       "      <td>貞子3D (2012)</td>\n",
       "      <td>2.5</td>\n",
       "    </tr>\n",
       "    <tr>\n",
       "      <th>27186229</th>\n",
       "      <td>183200.0</td>\n",
       "      <td>貞子3D (2012)</td>\n",
       "      <td>1.0</td>\n",
       "    </tr>\n",
       "    <tr>\n",
       "      <th>27186230</th>\n",
       "      <td>202065.0</td>\n",
       "      <td>貞子3D (2012)</td>\n",
       "      <td>1.0</td>\n",
       "    </tr>\n",
       "    <tr>\n",
       "      <th>27476240</th>\n",
       "      <td>123100.0</td>\n",
       "      <td>줄탁동시 (2012)</td>\n",
       "      <td>3.0</td>\n",
       "    </tr>\n",
       "    <tr>\n",
       "      <th>27476241</th>\n",
       "      <td>132769.0</td>\n",
       "      <td>줄탁동시 (2012)</td>\n",
       "      <td>5.0</td>\n",
       "    </tr>\n",
       "  </tbody>\n",
       "</table>\n",
       "<p>27753444 rows × 3 columns</p>\n",
       "</div>"
      ],
      "text/plain": [
       "               uid                               iid  rating\n",
       "23439985   61133.0  \"Great Performances\" Cats (1998)     0.5\n",
       "23439946   16196.0  \"Great Performances\" Cats (1998)     3.0\n",
       "23439989   64533.0  \"Great Performances\" Cats (1998)     2.0\n",
       "23440089  191814.0  \"Great Performances\" Cats (1998)     0.5\n",
       "23440066  160365.0  \"Great Performances\" Cats (1998)     3.5\n",
       "...            ...                               ...     ...\n",
       "27186234  236981.0                       貞子3D (2012)     2.5\n",
       "27186229  183200.0                       貞子3D (2012)     1.0\n",
       "27186230  202065.0                       貞子3D (2012)     1.0\n",
       "27476240  123100.0                       줄탁동시 (2012)     3.0\n",
       "27476241  132769.0                       줄탁동시 (2012)     5.0\n",
       "\n",
       "[27753444 rows x 3 columns]"
      ]
     },
     "execution_count": 120,
     "metadata": {},
     "output_type": "execute_result"
    }
   ],
   "source": [
    "dataset_2 = dataset.sort_values(by=['iid'])\n",
    "dataset_2"
   ]
  },
  {
   "cell_type": "code",
   "execution_count": 136,
   "metadata": {},
   "outputs": [
    {
     "data": {
      "text/plain": [
       "123100.0    4013\n",
       "117490.0    1701\n",
       "134596.0    1385\n",
       "212343.0    1375\n",
       "242683.0    1300\n",
       "            ... \n",
       "21837.0        1\n",
       "86184.0        1\n",
       "21839.0        1\n",
       "86183.0        1\n",
       "17228.0        1\n",
       "Name: uid, Length: 258246, dtype: int64"
      ]
     },
     "execution_count": 136,
     "metadata": {},
     "output_type": "execute_result"
    }
   ],
   "source": [
    "dataset_ = dataset_2[:5000000]\n",
    "dataset_.uid.value_counts()"
   ]
  },
  {
   "cell_type": "code",
   "execution_count": 137,
   "metadata": {},
   "outputs": [
    {
     "data": {
      "text/plain": [
       "Braveheart (1995)                             68803\n",
       "American Beauty (1999)                        60820\n",
       "Apollo 13 (1995)                              58665\n",
       "Back to the Future (1985)                     57492\n",
       "Batman (1989)                                 54448\n",
       "                                              ...  \n",
       "Battement de coeur (1940)                         1\n",
       "Bang! (1977)                                      1\n",
       "Black Circle Boys (1997)                          1\n",
       "Beside Bowie: The Mick Ronson Story (2017)        1\n",
       "An Uncertain Season (1988)                        1\n",
       "Name: iid, Length: 9032, dtype: int64"
      ]
     },
     "execution_count": 137,
     "metadata": {},
     "output_type": "execute_result"
    }
   ],
   "source": [
    "dataset_.iid.value_counts()"
   ]
  },
  {
   "cell_type": "code",
   "execution_count": 138,
   "metadata": {},
   "outputs": [],
   "source": [
    "reader = Reader(rating_scale=(0.5, 5.0))\n",
    "data = Dataset.load_from_df(dataset_, reader)"
   ]
  },
  {
   "cell_type": "code",
   "execution_count": 139,
   "metadata": {},
   "outputs": [],
   "source": [
    "trainset, testset = train_test_split(data, test_size=.1)"
   ]
  },
  {
   "cell_type": "code",
   "execution_count": 140,
   "metadata": {},
   "outputs": [],
   "source": [
    "algo_2 = KNNWithMeans(k=5, sim_options={'name': 'pearson_baseline', 'user_based': False})"
   ]
  },
  {
   "cell_type": "code",
   "execution_count": 141,
   "metadata": {},
   "outputs": [
    {
     "name": "stdout",
     "output_type": "stream",
     "text": [
      "Estimating biases using als...\n",
      "Computing the pearson_baseline similarity matrix...\n",
      "Done computing similarity matrix.\n"
     ]
    },
    {
     "data": {
      "text/plain": [
       "<surprise.prediction_algorithms.knns.KNNWithMeans at 0x4539f88d0>"
      ]
     },
     "execution_count": 141,
     "metadata": {},
     "output_type": "execute_result"
    }
   ],
   "source": [
    "algo_2.fit(trainset)"
   ]
  },
  {
   "cell_type": "code",
   "execution_count": 142,
   "metadata": {},
   "outputs": [],
   "source": [
    "test_pred = algo_2.test(testset)"
   ]
  },
  {
   "cell_type": "code",
   "execution_count": 143,
   "metadata": {},
   "outputs": [
    {
     "name": "stdout",
     "output_type": "stream",
     "text": [
      "RMSE: 0.8734\n"
     ]
    },
    {
     "data": {
      "text/plain": [
       "0.8734324188784747"
      ]
     },
     "execution_count": 143,
     "metadata": {},
     "output_type": "execute_result"
    }
   ],
   "source": [
    "accuracy.rmse(test_pred, verbose=True)"
   ]
  },
  {
   "cell_type": "code",
   "execution_count": 144,
   "metadata": {},
   "outputs": [
    {
     "name": "stdout",
     "output_type": "stream",
     "text": [
      "Estimating biases using als...\n",
      "Computing the pearson_baseline similarity matrix...\n",
      "Done computing similarity matrix.\n",
      "Estimating biases using als...\n",
      "Computing the pearson_baseline similarity matrix...\n",
      "Done computing similarity matrix.\n",
      "Estimating biases using als...\n",
      "Computing the pearson_baseline similarity matrix...\n",
      "Done computing similarity matrix.\n",
      "Estimating biases using als...\n",
      "Computing the pearson_baseline similarity matrix...\n",
      "Done computing similarity matrix.\n",
      "Estimating biases using als...\n",
      "Computing the pearson_baseline similarity matrix...\n",
      "Done computing similarity matrix.\n",
      "Evaluating RMSE of algorithm KNNWithMeans on 5 split(s).\n",
      "\n",
      "                  Fold 1  Fold 2  Fold 3  Fold 4  Fold 5  Mean    Std     \n",
      "RMSE (testset)    0.8829  0.8821  0.8819  0.8823  0.8824  0.8823  0.0003  \n",
      "Fit time          56.95   58.74   56.06   55.81   58.13   57.14   1.14    \n",
      "Test time         97.83   97.21   96.00   365.76  2415.12 614.39  906.36  \n"
     ]
    },
    {
     "data": {
      "text/plain": [
       "{'test_rmse': array([0.88286774, 0.88205122, 0.88193261, 0.88227287, 0.88235712]),\n",
       " 'fit_time': (56.952451944351196,\n",
       "  58.73997497558594,\n",
       "  56.06044292449951,\n",
       "  55.80573105812073,\n",
       "  58.12677311897278),\n",
       " 'test_time': (97.82983112335205,\n",
       "  97.21352410316467,\n",
       "  96.00209498405457,\n",
       "  365.7647318840027,\n",
       "  2415.122618198395)}"
      ]
     },
     "execution_count": 144,
     "metadata": {},
     "output_type": "execute_result"
    }
   ],
   "source": [
    "cross_validate(algo_2, data, measures=['RMSE'], cv=5, verbose=True)"
   ]
  },
  {
   "cell_type": "markdown",
   "metadata": {},
   "source": [
    "Вначале хотел обучить модель на всем датасете - итог ram не выдержал.  \n",
    "Потом брал первые 100000 строк из датасета - итог высокое значение RMSE (от 1.06)  \n",
    "Затем решил отсортировать датасет по uid и iid.  \n",
    "В итоге обнаружил, что кол-во уникальных фильмов 9032, а пользователей 258246, при обработке 5000000 строк датасета, поэтому решил использовать ITEM-BASED COLLABORATIVE FILTERING, тк пользователей гораздо больше, чем объектов. В итоге получил на 5 фолдах при кросс-валидации RMSE (testset)    0.8829  0.8821  0.8819  0.8823  0.8824  \n",
    "При деление данных на test и train - получил RMSE: 0.8734.  \n",
    "На этом я остановился. "
   ]
  },
  {
   "cell_type": "code",
   "execution_count": null,
   "metadata": {},
   "outputs": [],
   "source": []
  }
 ],
 "metadata": {
  "kernelspec": {
   "display_name": "Python 3",
   "language": "python",
   "name": "python3"
  },
  "language_info": {
   "codemirror_mode": {
    "name": "ipython",
    "version": 3
   },
   "file_extension": ".py",
   "mimetype": "text/x-python",
   "name": "python",
   "nbconvert_exporter": "python",
   "pygments_lexer": "ipython3",
   "version": "3.7.6"
  }
 },
 "nbformat": 4,
 "nbformat_minor": 4
}

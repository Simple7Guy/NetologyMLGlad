{
 "cells": [
  {
   "cell_type": "code",
   "execution_count": 470,
   "metadata": {},
   "outputs": [],
   "source": [
    "from sklearn import datasets\n",
    "import numpy as np"
   ]
  },
  {
   "cell_type": "code",
   "execution_count": 471,
   "metadata": {},
   "outputs": [],
   "source": [
    "iris = datasets.load_iris()"
   ]
  },
  {
   "cell_type": "code",
   "execution_count": 472,
   "metadata": {},
   "outputs": [
    {
     "data": {
      "text/plain": [
       "dict_keys(['data', 'target', 'target_names', 'DESCR', 'feature_names', 'filename'])"
      ]
     },
     "execution_count": 472,
     "metadata": {},
     "output_type": "execute_result"
    }
   ],
   "source": [
    "iris.keys()"
   ]
  },
  {
   "cell_type": "code",
   "execution_count": 473,
   "metadata": {},
   "outputs": [
    {
     "data": {
      "text/plain": [
       "100"
      ]
     },
     "execution_count": 473,
     "metadata": {},
     "output_type": "execute_result"
    }
   ],
   "source": [
    "X = iris.data[:100, :2 ]\n",
    "len(X)"
   ]
  },
  {
   "cell_type": "code",
   "execution_count": 474,
   "metadata": {},
   "outputs": [
    {
     "data": {
      "text/plain": [
       "100"
      ]
     },
     "execution_count": 474,
     "metadata": {},
     "output_type": "execute_result"
    }
   ],
   "source": [
    "Y = iris.target[:100]\n",
    "len(Y)"
   ]
  },
  {
   "cell_type": "code",
   "execution_count": 475,
   "metadata": {},
   "outputs": [],
   "source": [
    "def sigmoid(x, y):\n",
    "    return 1 / (1 + np.exp(-np.dot(x,y)))"
   ]
  },
  {
   "cell_type": "code",
   "execution_count": 521,
   "metadata": {},
   "outputs": [],
   "source": [
    "def LogisticRegression_gradient_Descent(X,Y,alpha=0.9):\n",
    "    tetta_0, tetta_1, tetta_2 = [1, 1, 1]\n",
    "    i = 0\n",
    "    while i<1000:\n",
    "        Sum_0, Sum_1, Sum_2 = [0, 0, 0]\n",
    "        for x, y in zip(X,Y):\n",
    "            h = sigmoid([tetta_0, tetta_1, tetta_2], [1, x[0], x[1]])\n",
    "            Sum_0 += (h - y)\n",
    "            Sum_1 += (h - y) * x[0]\n",
    "            Sum_2 += (h - y) * x[1]\n",
    "            \n",
    "        #меняем веса вектора tetta = [tetta_0, tetta_1, tetta_2]\n",
    "        tetta_0 = tetta_0 - (alpha)*Sum_0 \n",
    "        tetta_1 = tetta_1 - (alpha)*Sum_1\n",
    "        tetta_2 = tetta_2 - (alpha)*Sum_2\n",
    "        \n",
    "        #Можно сделать выход по некоторому необходимому эпсилон при необходимой точности, но 1000 - тоже норм, чтобы уже не переобучить модель\n",
    "        i+=1\n",
    "#     print(tetta_0, tetta_1, tetta_2)\n",
    "    return [tetta_0, tetta_1, tetta_2]"
   ]
  },
  {
   "cell_type": "code",
   "execution_count": 522,
   "metadata": {
    "scrolled": true
   },
   "outputs": [
    {
     "name": "stderr",
     "output_type": "stream",
     "text": [
      "/Users/macbook/opt/anaconda3/lib/python3.7/site-packages/ipykernel_launcher.py:2: RuntimeWarning: overflow encountered in exp\n",
      "  \n"
     ]
    }
   ],
   "source": [
    "res = LogisticRegression_gradient_Descent(X,Y)"
   ]
  },
  {
   "cell_type": "code",
   "execution_count": 523,
   "metadata": {},
   "outputs": [
    {
     "name": "stdout",
     "output_type": "stream",
     "text": [
      "[-309.49545918451696, 510.8779948731573, -818.4905849361307]\n"
     ]
    }
   ],
   "source": [
    "print(res)"
   ]
  },
  {
   "cell_type": "code",
   "execution_count": 524,
   "metadata": {
    "scrolled": true
   },
   "outputs": [
    {
     "name": "stdout",
     "output_type": "stream",
     "text": [
      "0 0\n",
      "0 0\n",
      "0 0\n",
      "0 0\n",
      "0 0\n",
      "0 0\n",
      "0 0\n",
      "0 0\n",
      "0 0\n",
      "0 0\n",
      "0 0\n",
      "0 0\n",
      "0 0\n",
      "0 0\n",
      "0 0\n",
      "0 0\n",
      "0 0\n",
      "0 0\n",
      "0 0\n",
      "0 0\n",
      "0 0\n",
      "0 0\n",
      "0 0\n",
      "0 0\n",
      "0 0\n",
      "0 0\n",
      "0 0\n",
      "0 0\n",
      "0 0\n",
      "0 0\n",
      "0 0\n",
      "0 0\n",
      "0 0\n",
      "0 0\n",
      "0 0\n",
      "0 0\n",
      "0 0\n",
      "0 0\n",
      "0 0\n",
      "0 0\n",
      "0 0\n",
      "1 0\n",
      "0 0\n",
      "0 0\n",
      "0 0\n",
      "0 0\n",
      "0 0\n",
      "0 0\n",
      "0 0\n",
      "0 0\n",
      "1 1\n",
      "1 1\n",
      "1 1\n",
      "1 1\n",
      "1 1\n",
      "1 1\n",
      "1 1\n",
      "1 1\n",
      "1 1\n",
      "1 1\n",
      "1 1\n",
      "1 1\n",
      "1 1\n",
      "1 1\n",
      "1 1\n",
      "1 1\n",
      "1 1\n",
      "1 1\n",
      "1 1\n",
      "1 1\n",
      "1 1\n",
      "1 1\n",
      "1 1\n",
      "1 1\n",
      "1 1\n",
      "1 1\n",
      "1 1\n",
      "1 1\n",
      "1 1\n",
      "1 1\n",
      "1 1\n",
      "1 1\n",
      "1 1\n",
      "1 1\n",
      "0 1\n",
      "0 1\n",
      "1 1\n",
      "1 1\n",
      "1 1\n",
      "1 1\n",
      "1 1\n",
      "1 1\n",
      "1 1\n",
      "1 1\n",
      "1 1\n",
      "1 1\n",
      "1 1\n",
      "1 1\n",
      "1 1\n",
      "1 1\n"
     ]
    },
    {
     "name": "stderr",
     "output_type": "stream",
     "text": [
      "/Users/macbook/opt/anaconda3/lib/python3.7/site-packages/ipykernel_launcher.py:2: RuntimeWarning: overflow encountered in exp\n",
      "  \n"
     ]
    }
   ],
   "source": [
    "for i, x in enumerate(X):\n",
    "    h = sigmoid(res, [1, x[0], x[1]])\n",
    "    print( (h > .5).astype(int), Y[i] )"
   ]
  },
  {
   "cell_type": "markdown",
   "metadata": {},
   "source": [
    "LogisticRegression_gradient_Descent при i = 1000  \n",
    "ошибок: 3 из 100"
   ]
  },
  {
   "cell_type": "code",
   "execution_count": 560,
   "metadata": {},
   "outputs": [],
   "source": [
    "def LogisticRegression_Nesterov_Accelerated_Gradient(X,Y,alpha=0.9,gamma=0.9):\n",
    "    tetta_0, tetta_1, tetta_2 = [1, 1, 1]\n",
    "    V_0, V_1, V_2 = [0, 0, 0]\n",
    "    i = 0\n",
    "    while i<100:\n",
    "        Sum_0, Sum_1, Sum_2 = [0, 0, 0]\n",
    "        for x, y in zip(X,Y):\n",
    "            h = sigmoid([tetta_0 - gamma*V_0 , tetta_1 - gamma*V_1, tetta_2 - gamma*V_2], [1, x[0], x[1]])\n",
    "            Sum_0 += (h - y)\n",
    "            Sum_1 += (h - y) * x[0]\n",
    "            Sum_2 += (h - y) * x[1]\n",
    "        V_0 = gamma*V_0 + (alpha)*Sum_0 \n",
    "        V_1 = gamma*V_1 + (alpha)*Sum_1     \n",
    "        V_2 = gamma*V_2 + (alpha)*Sum_2     \n",
    "        #меняем веса вектора tetta = [tetta_0, tetta_1, tetta_2]\n",
    "        tetta_0 = tetta_0 - V_0 \n",
    "        tetta_1 = tetta_1 - V_1\n",
    "        tetta_2 = tetta_2 - V_2\n",
    "        \n",
    "        #Можно сделать выход по некоторому необходимому эпсилон при необходимой точности, но 100 - тоже норм, чтобы уже не переобучить модель\n",
    "        i+=1\n",
    "#     print(tetta_0, tetta_1, tetta_2)\n",
    "    return [tetta_0, tetta_1, tetta_2]"
   ]
  },
  {
   "cell_type": "code",
   "execution_count": 561,
   "metadata": {},
   "outputs": [
    {
     "name": "stderr",
     "output_type": "stream",
     "text": [
      "/Users/macbook/opt/anaconda3/lib/python3.7/site-packages/ipykernel_launcher.py:2: RuntimeWarning: overflow encountered in exp\n",
      "  \n"
     ]
    }
   ],
   "source": [
    "res2 = LogisticRegression_Nesterov_Accelerated_Gradient(X,Y)"
   ]
  },
  {
   "cell_type": "code",
   "execution_count": 562,
   "metadata": {},
   "outputs": [
    {
     "name": "stdout",
     "output_type": "stream",
     "text": [
      "[-341.87749482592204, 922.711680165383, -1537.2656694255581]\n"
     ]
    }
   ],
   "source": [
    "print(res2)"
   ]
  },
  {
   "cell_type": "code",
   "execution_count": 563,
   "metadata": {},
   "outputs": [
    {
     "name": "stdout",
     "output_type": "stream",
     "text": [
      "0 0\n",
      "0 0\n",
      "0 0\n",
      "0 0\n",
      "0 0\n",
      "0 0\n",
      "0 0\n",
      "0 0\n",
      "0 0\n",
      "0 0\n",
      "0 0\n",
      "0 0\n",
      "0 0\n",
      "0 0\n",
      "0 0\n",
      "0 0\n",
      "0 0\n",
      "0 0\n",
      "0 0\n",
      "0 0\n",
      "0 0\n",
      "0 0\n",
      "0 0\n",
      "0 0\n",
      "0 0\n",
      "0 0\n",
      "0 0\n",
      "0 0\n",
      "0 0\n",
      "0 0\n",
      "0 0\n",
      "0 0\n",
      "0 0\n",
      "0 0\n",
      "0 0\n",
      "0 0\n",
      "0 0\n",
      "0 0\n",
      "0 0\n",
      "0 0\n",
      "0 0\n",
      "1 0\n",
      "0 0\n",
      "0 0\n",
      "0 0\n",
      "0 0\n",
      "0 0\n",
      "0 0\n",
      "0 0\n",
      "0 0\n",
      "1 1\n",
      "1 1\n",
      "1 1\n",
      "1 1\n",
      "1 1\n",
      "1 1\n",
      "1 1\n",
      "1 1\n",
      "1 1\n",
      "1 1\n",
      "1 1\n",
      "1 1\n",
      "1 1\n",
      "1 1\n",
      "1 1\n",
      "1 1\n",
      "1 1\n",
      "1 1\n",
      "1 1\n",
      "1 1\n",
      "1 1\n",
      "1 1\n",
      "1 1\n",
      "1 1\n",
      "1 1\n",
      "1 1\n",
      "1 1\n",
      "1 1\n",
      "1 1\n",
      "1 1\n",
      "1 1\n",
      "1 1\n",
      "1 1\n",
      "1 1\n",
      "1 1\n",
      "0 1\n",
      "1 1\n",
      "1 1\n",
      "1 1\n",
      "1 1\n",
      "1 1\n",
      "1 1\n",
      "1 1\n",
      "1 1\n",
      "1 1\n",
      "1 1\n",
      "1 1\n",
      "1 1\n",
      "1 1\n",
      "1 1\n"
     ]
    },
    {
     "name": "stderr",
     "output_type": "stream",
     "text": [
      "/Users/macbook/opt/anaconda3/lib/python3.7/site-packages/ipykernel_launcher.py:2: RuntimeWarning: overflow encountered in exp\n",
      "  \n"
     ]
    }
   ],
   "source": [
    "for i, x in enumerate(X):\n",
    "    h = sigmoid(res2, [1, x[0], x[1]])\n",
    "    print( (h > .5).astype(int), Y[i] )"
   ]
  },
  {
   "cell_type": "markdown",
   "metadata": {},
   "source": [
    "LogisticRegression_Nesterov_Accelerated_Gradient при i = 100  \n",
    "ошибок: 2 из 100"
   ]
  },
  {
   "cell_type": "code",
   "execution_count": 564,
   "metadata": {},
   "outputs": [],
   "source": [
    "def LogisticRegression_RMSprop(X,Y,alpha=0.9,gamma=0.9,e=0.01):\n",
    "    tetta_0, tetta_1, tetta_2 = [1, 1, 1]\n",
    "    i = 0\n",
    "    E_0, E_1, E_2 = [0, 0, 0]\n",
    "    while i<100:\n",
    "        Sum_0, Sum_1, Sum_2 = [0, 0, 0]\n",
    "        for x, y in zip(X,Y):\n",
    "            h = sigmoid([tetta_0, tetta_1, tetta_2], [1, x[0], x[1]])\n",
    "            Sum_0 += (h - y)\n",
    "            Sum_1 += (h - y) * x[0]\n",
    "            Sum_2 += (h - y) * x[1]\n",
    "        E_0 = gamma*E_0 + (1 - gamma)*np.square(Sum_0)\n",
    "        E_1 = gamma*E_1 + (1 - gamma)*np.square(Sum_1)\n",
    "        E_2 = gamma*E_2 + (1 - gamma)*np.square(Sum_2)\n",
    "        #меняем веса вектора tetta = [tetta_0, tetta_1, tetta_2]\n",
    "        tetta_0 = tetta_0 - (alpha)*Sum_0/np.sqrt(E_0 + e) \n",
    "        tetta_1 = tetta_1 - (alpha)*Sum_1/np.sqrt(E_1 + e)\n",
    "        tetta_2 = tetta_2 - (alpha)*Sum_2/np.sqrt(E_2 + e)\n",
    "        \n",
    "        #Можно сделать выход по некоторому необходимому эпсилон при необходимой точности, но 100 - тоже норм, чтобы уже не переобучить модель\n",
    "        i+=1\n",
    "#     print(tetta_0, tetta_1, tetta_2)\n",
    "    return [tetta_0, tetta_1, tetta_2]"
   ]
  },
  {
   "cell_type": "code",
   "execution_count": 565,
   "metadata": {},
   "outputs": [],
   "source": [
    "res3 = LogisticRegression_RMSprop(X,Y)"
   ]
  },
  {
   "cell_type": "code",
   "execution_count": 566,
   "metadata": {},
   "outputs": [
    {
     "name": "stdout",
     "output_type": "stream",
     "text": [
      "[-1.5248125303419438, 4.539606863368361, -7.450079977023969]\n"
     ]
    }
   ],
   "source": [
    "print(res3)"
   ]
  },
  {
   "cell_type": "code",
   "execution_count": 567,
   "metadata": {},
   "outputs": [
    {
     "name": "stdout",
     "output_type": "stream",
     "text": [
      "0 0\n",
      "0 0\n",
      "0 0\n",
      "0 0\n",
      "0 0\n",
      "0 0\n",
      "0 0\n",
      "0 0\n",
      "0 0\n",
      "0 0\n",
      "0 0\n",
      "0 0\n",
      "0 0\n",
      "0 0\n",
      "0 0\n",
      "0 0\n",
      "0 0\n",
      "0 0\n",
      "0 0\n",
      "0 0\n",
      "0 0\n",
      "0 0\n",
      "0 0\n",
      "0 0\n",
      "0 0\n",
      "0 0\n",
      "0 0\n",
      "0 0\n",
      "0 0\n",
      "0 0\n",
      "0 0\n",
      "0 0\n",
      "0 0\n",
      "0 0\n",
      "0 0\n",
      "0 0\n",
      "0 0\n",
      "0 0\n",
      "0 0\n",
      "0 0\n",
      "0 0\n",
      "1 0\n",
      "0 0\n",
      "0 0\n",
      "0 0\n",
      "0 0\n",
      "0 0\n",
      "0 0\n",
      "0 0\n",
      "0 0\n",
      "1 1\n",
      "1 1\n",
      "1 1\n",
      "1 1\n",
      "1 1\n",
      "1 1\n",
      "1 1\n",
      "1 1\n",
      "1 1\n",
      "1 1\n",
      "1 1\n",
      "1 1\n",
      "1 1\n",
      "1 1\n",
      "1 1\n",
      "1 1\n",
      "1 1\n",
      "1 1\n",
      "1 1\n",
      "1 1\n",
      "1 1\n",
      "1 1\n",
      "1 1\n",
      "1 1\n",
      "1 1\n",
      "1 1\n",
      "1 1\n",
      "1 1\n",
      "1 1\n",
      "1 1\n",
      "1 1\n",
      "1 1\n",
      "1 1\n",
      "1 1\n",
      "1 1\n",
      "1 1\n",
      "1 1\n",
      "1 1\n",
      "1 1\n",
      "1 1\n",
      "1 1\n",
      "1 1\n",
      "1 1\n",
      "1 1\n",
      "1 1\n",
      "1 1\n",
      "1 1\n",
      "1 1\n",
      "1 1\n",
      "1 1\n"
     ]
    }
   ],
   "source": [
    "for i, x in enumerate(X):\n",
    "    h = sigmoid(res3, [1, x[0], x[1]])\n",
    "    print( (h > .5).astype(int), Y[i] )"
   ]
  },
  {
   "cell_type": "markdown",
   "metadata": {},
   "source": [
    "LogisticRegression_RMSprop при i = 100  \n",
    "ошибок: 1 из 100"
   ]
  },
  {
   "cell_type": "code",
   "execution_count": null,
   "metadata": {},
   "outputs": [],
   "source": []
  }
 ],
 "metadata": {
  "kernelspec": {
   "display_name": "Python 3",
   "language": "python",
   "name": "python3"
  },
  "language_info": {
   "codemirror_mode": {
    "name": "ipython",
    "version": 3
   },
   "file_extension": ".py",
   "mimetype": "text/x-python",
   "name": "python",
   "nbconvert_exporter": "python",
   "pygments_lexer": "ipython3",
   "version": "3.7.6"
  }
 },
 "nbformat": 4,
 "nbformat_minor": 4
}
